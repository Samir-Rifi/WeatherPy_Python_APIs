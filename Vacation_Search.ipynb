{
 "cells": [
  {
   "cell_type": "markdown",
   "metadata": {},
   "source": [
    "## Deliverable 2. Create a Customer Travel Destinations Map."
   ]
  },
  {
   "cell_type": "code",
   "execution_count": 1,
   "metadata": {},
   "outputs": [],
   "source": [
    "# Dependencies and Setup\n",
    "import pandas as pd\n",
    "import requests\n",
    "import gmaps\n",
    "\n",
    "# Import API key\n",
    "from config import g_key\n",
    "\n",
    "# Configure gmaps API key\n",
    "gmaps.configure(api_key=g_key)"
   ]
  },
  {
   "cell_type": "code",
   "execution_count": 2,
   "metadata": {},
   "outputs": [
    {
     "output_type": "execute_result",
     "data": {
      "text/plain": [
       "   City_ID          City      Lat      Lng  Max Temp  Humidity  Cloudiness  \\\n",
       "0        0  Puerto Ayora  -0.7393 -90.3518     80.56        85          26   \n",
       "1        1         Talas  38.6908  35.5538     66.87        32          20   \n",
       "2        2  Krasnoselkup  65.7000  82.4667     39.33        65          97   \n",
       "3        3     Jamestown  42.0970 -79.2353     83.01        48           1   \n",
       "4        4   Port Alfred -33.5906  26.8910     65.70        43           0   \n",
       "\n",
       "   Wind Speed Country                 Date Current Description  \n",
       "0        8.01      EC  2021-06-06 16:21:37    scattered clouds  \n",
       "1        7.31      TR  2021-06-06 16:25:57          few clouds  \n",
       "2       11.61      RU  2021-06-06 16:25:59     overcast clouds  \n",
       "3        8.99      US  2021-06-06 16:21:27           clear sky  \n",
       "4        9.26      ZA  2021-06-06 16:26:01           clear sky  "
      ],
      "text/html": "<div>\n<style scoped>\n    .dataframe tbody tr th:only-of-type {\n        vertical-align: middle;\n    }\n\n    .dataframe tbody tr th {\n        vertical-align: top;\n    }\n\n    .dataframe thead th {\n        text-align: right;\n    }\n</style>\n<table border=\"1\" class=\"dataframe\">\n  <thead>\n    <tr style=\"text-align: right;\">\n      <th></th>\n      <th>City_ID</th>\n      <th>City</th>\n      <th>Lat</th>\n      <th>Lng</th>\n      <th>Max Temp</th>\n      <th>Humidity</th>\n      <th>Cloudiness</th>\n      <th>Wind Speed</th>\n      <th>Country</th>\n      <th>Date</th>\n      <th>Current Description</th>\n    </tr>\n  </thead>\n  <tbody>\n    <tr>\n      <th>0</th>\n      <td>0</td>\n      <td>Puerto Ayora</td>\n      <td>-0.7393</td>\n      <td>-90.3518</td>\n      <td>80.56</td>\n      <td>85</td>\n      <td>26</td>\n      <td>8.01</td>\n      <td>EC</td>\n      <td>2021-06-06 16:21:37</td>\n      <td>scattered clouds</td>\n    </tr>\n    <tr>\n      <th>1</th>\n      <td>1</td>\n      <td>Talas</td>\n      <td>38.6908</td>\n      <td>35.5538</td>\n      <td>66.87</td>\n      <td>32</td>\n      <td>20</td>\n      <td>7.31</td>\n      <td>TR</td>\n      <td>2021-06-06 16:25:57</td>\n      <td>few clouds</td>\n    </tr>\n    <tr>\n      <th>2</th>\n      <td>2</td>\n      <td>Krasnoselkup</td>\n      <td>65.7000</td>\n      <td>82.4667</td>\n      <td>39.33</td>\n      <td>65</td>\n      <td>97</td>\n      <td>11.61</td>\n      <td>RU</td>\n      <td>2021-06-06 16:25:59</td>\n      <td>overcast clouds</td>\n    </tr>\n    <tr>\n      <th>3</th>\n      <td>3</td>\n      <td>Jamestown</td>\n      <td>42.0970</td>\n      <td>-79.2353</td>\n      <td>83.01</td>\n      <td>48</td>\n      <td>1</td>\n      <td>8.99</td>\n      <td>US</td>\n      <td>2021-06-06 16:21:27</td>\n      <td>clear sky</td>\n    </tr>\n    <tr>\n      <th>4</th>\n      <td>4</td>\n      <td>Port Alfred</td>\n      <td>-33.5906</td>\n      <td>26.8910</td>\n      <td>65.70</td>\n      <td>43</td>\n      <td>0</td>\n      <td>9.26</td>\n      <td>ZA</td>\n      <td>2021-06-06 16:26:01</td>\n      <td>clear sky</td>\n    </tr>\n  </tbody>\n</table>\n</div>"
     },
     "metadata": {},
     "execution_count": 2
    }
   ],
   "source": [
    "# 1. Import the WeatherPy_database.csv file. \n",
    "city_data_df = pd.read_csv(\"C:\\My_Projects\\Weather_Database/WeatherPy_Database.csv\")\n",
    "city_data_df.head()"
   ]
  },
  {
   "cell_type": "code",
   "execution_count": 3,
   "metadata": {},
   "outputs": [],
   "source": [
    "# 2. Prompt the user to enter minimum and maximum temperature criteria \n",
    "min_temp = float(input(\"What is the minimum temperature you would like? \"))\n",
    "max_temp = float(input(\"What is the maximum temperature you would like? \"))"
   ]
  },
  {
   "cell_type": "code",
   "execution_count": 4,
   "metadata": {},
   "outputs": [
    {
     "output_type": "execute_result",
     "data": {
      "text/plain": [
       "    City_ID          City      Lat       Lng  Max Temp  Humidity  Cloudiness  \\\n",
       "0         0  Puerto Ayora  -0.7393  -90.3518     80.56        85          26   \n",
       "3         3     Jamestown  42.0970  -79.2353     83.01        48           1   \n",
       "8         8    Nouadhibou  20.9310  -17.0347     76.98        57          42   \n",
       "10       10       Tuy Hoa  13.0833  109.3000     80.02        83          98   \n",
       "15       15     Hithadhoo  -0.6000   73.0833     83.55        71          82   \n",
       "24       24      Kirakira -10.4544  161.9205     79.36        85          42   \n",
       "26       26     Ugoofaaru   5.6667   73.0000     82.72        76          93   \n",
       "27       27    Georgetown   5.4112  100.3354     82.33        86          20   \n",
       "28       28       Rikitea -23.1203 -134.9692     76.44        82          97   \n",
       "30       30        Trairi  -3.2778  -39.2689     88.14        53          45   \n",
       "\n",
       "    Wind Speed Country                 Date Current Description  \n",
       "0         8.01      EC  2021-06-06 16:21:37    scattered clouds  \n",
       "3         8.99      US  2021-06-06 16:21:27           clear sky  \n",
       "8        16.11      MR  2021-06-06 16:26:06                sand  \n",
       "10        5.70      VN  2021-06-06 16:26:09     overcast clouds  \n",
       "15       11.86      MV  2021-06-06 16:26:15       broken clouds  \n",
       "24        8.34      SB  2021-06-06 16:26:26    scattered clouds  \n",
       "26       13.13      MV  2021-06-06 16:26:29     overcast clouds  \n",
       "27        2.30      MY  2021-06-06 16:25:06          few clouds  \n",
       "28       14.70      PF  2021-06-06 16:26:31          light rain  \n",
       "30       10.27      BR  2021-06-06 16:25:52    scattered clouds  "
      ],
      "text/html": "<div>\n<style scoped>\n    .dataframe tbody tr th:only-of-type {\n        vertical-align: middle;\n    }\n\n    .dataframe tbody tr th {\n        vertical-align: top;\n    }\n\n    .dataframe thead th {\n        text-align: right;\n    }\n</style>\n<table border=\"1\" class=\"dataframe\">\n  <thead>\n    <tr style=\"text-align: right;\">\n      <th></th>\n      <th>City_ID</th>\n      <th>City</th>\n      <th>Lat</th>\n      <th>Lng</th>\n      <th>Max Temp</th>\n      <th>Humidity</th>\n      <th>Cloudiness</th>\n      <th>Wind Speed</th>\n      <th>Country</th>\n      <th>Date</th>\n      <th>Current Description</th>\n    </tr>\n  </thead>\n  <tbody>\n    <tr>\n      <th>0</th>\n      <td>0</td>\n      <td>Puerto Ayora</td>\n      <td>-0.7393</td>\n      <td>-90.3518</td>\n      <td>80.56</td>\n      <td>85</td>\n      <td>26</td>\n      <td>8.01</td>\n      <td>EC</td>\n      <td>2021-06-06 16:21:37</td>\n      <td>scattered clouds</td>\n    </tr>\n    <tr>\n      <th>3</th>\n      <td>3</td>\n      <td>Jamestown</td>\n      <td>42.0970</td>\n      <td>-79.2353</td>\n      <td>83.01</td>\n      <td>48</td>\n      <td>1</td>\n      <td>8.99</td>\n      <td>US</td>\n      <td>2021-06-06 16:21:27</td>\n      <td>clear sky</td>\n    </tr>\n    <tr>\n      <th>8</th>\n      <td>8</td>\n      <td>Nouadhibou</td>\n      <td>20.9310</td>\n      <td>-17.0347</td>\n      <td>76.98</td>\n      <td>57</td>\n      <td>42</td>\n      <td>16.11</td>\n      <td>MR</td>\n      <td>2021-06-06 16:26:06</td>\n      <td>sand</td>\n    </tr>\n    <tr>\n      <th>10</th>\n      <td>10</td>\n      <td>Tuy Hoa</td>\n      <td>13.0833</td>\n      <td>109.3000</td>\n      <td>80.02</td>\n      <td>83</td>\n      <td>98</td>\n      <td>5.70</td>\n      <td>VN</td>\n      <td>2021-06-06 16:26:09</td>\n      <td>overcast clouds</td>\n    </tr>\n    <tr>\n      <th>15</th>\n      <td>15</td>\n      <td>Hithadhoo</td>\n      <td>-0.6000</td>\n      <td>73.0833</td>\n      <td>83.55</td>\n      <td>71</td>\n      <td>82</td>\n      <td>11.86</td>\n      <td>MV</td>\n      <td>2021-06-06 16:26:15</td>\n      <td>broken clouds</td>\n    </tr>\n    <tr>\n      <th>24</th>\n      <td>24</td>\n      <td>Kirakira</td>\n      <td>-10.4544</td>\n      <td>161.9205</td>\n      <td>79.36</td>\n      <td>85</td>\n      <td>42</td>\n      <td>8.34</td>\n      <td>SB</td>\n      <td>2021-06-06 16:26:26</td>\n      <td>scattered clouds</td>\n    </tr>\n    <tr>\n      <th>26</th>\n      <td>26</td>\n      <td>Ugoofaaru</td>\n      <td>5.6667</td>\n      <td>73.0000</td>\n      <td>82.72</td>\n      <td>76</td>\n      <td>93</td>\n      <td>13.13</td>\n      <td>MV</td>\n      <td>2021-06-06 16:26:29</td>\n      <td>overcast clouds</td>\n    </tr>\n    <tr>\n      <th>27</th>\n      <td>27</td>\n      <td>Georgetown</td>\n      <td>5.4112</td>\n      <td>100.3354</td>\n      <td>82.33</td>\n      <td>86</td>\n      <td>20</td>\n      <td>2.30</td>\n      <td>MY</td>\n      <td>2021-06-06 16:25:06</td>\n      <td>few clouds</td>\n    </tr>\n    <tr>\n      <th>28</th>\n      <td>28</td>\n      <td>Rikitea</td>\n      <td>-23.1203</td>\n      <td>-134.9692</td>\n      <td>76.44</td>\n      <td>82</td>\n      <td>97</td>\n      <td>14.70</td>\n      <td>PF</td>\n      <td>2021-06-06 16:26:31</td>\n      <td>light rain</td>\n    </tr>\n    <tr>\n      <th>30</th>\n      <td>30</td>\n      <td>Trairi</td>\n      <td>-3.2778</td>\n      <td>-39.2689</td>\n      <td>88.14</td>\n      <td>53</td>\n      <td>45</td>\n      <td>10.27</td>\n      <td>BR</td>\n      <td>2021-06-06 16:25:52</td>\n      <td>scattered clouds</td>\n    </tr>\n  </tbody>\n</table>\n</div>"
     },
     "metadata": {},
     "execution_count": 4
    }
   ],
   "source": [
    "# 3. Filter the city_data_df DataFrame using the input statements to create a new DataFrame using the loc method.\n",
    "preferred_cities_df = city_data_df.loc[(city_data_df[\"Max Temp\"] <= max_temp) & \\\n",
    "                                        (city_data_df[\"Max Temp\"] >= min_temp)]\n",
    "preferred_cities_df.head(10)"
   ]
  },
  {
   "cell_type": "code",
   "execution_count": 5,
   "metadata": {},
   "outputs": [
    {
     "output_type": "execute_result",
     "data": {
      "text/plain": [
       "City_ID                0\n",
       "City                   0\n",
       "Lat                    0\n",
       "Lng                    0\n",
       "Max Temp               0\n",
       "Humidity               0\n",
       "Cloudiness             0\n",
       "Wind Speed             0\n",
       "Country                1\n",
       "Date                   0\n",
       "Current Description    0\n",
       "dtype: int64"
      ]
     },
     "metadata": {},
     "execution_count": 5
    }
   ],
   "source": [
    "# 4a. Determine if there are any empty rows.\n",
    "preferred_cities_df.isnull().sum()"
   ]
  },
  {
   "cell_type": "code",
   "execution_count": 6,
   "metadata": {},
   "outputs": [
    {
     "output_type": "execute_result",
     "data": {
      "text/plain": [
       "     City_ID          City      Lat       Lng  Max Temp  Humidity  Cloudiness  \\\n",
       "0          0  Puerto Ayora  -0.7393  -90.3518     80.56        85          26   \n",
       "3          3     Jamestown  42.0970  -79.2353     83.01        48           1   \n",
       "8          8    Nouadhibou  20.9310  -17.0347     76.98        57          42   \n",
       "10        10       Tuy Hoa  13.0833  109.3000     80.02        83          98   \n",
       "15        15     Hithadhoo  -0.6000   73.0833     83.55        71          82   \n",
       "..       ...           ...      ...       ...       ...       ...         ...   \n",
       "720      720        Pakxan  18.3778  103.6601     76.87        95         100   \n",
       "721      721       Chiplun  17.5333   73.5167     79.77        86          78   \n",
       "722      722         Prado -17.3411  -39.2208     79.72        64          13   \n",
       "723      723        Harper   4.3750   -7.7169     80.98        81          83   \n",
       "727      727    Deep River  46.1001  -77.4995     87.44        47          50   \n",
       "\n",
       "     Wind Speed Country                 Date Current Description  \n",
       "0          8.01      EC  2021-06-06 16:21:37    scattered clouds  \n",
       "3          8.99      US  2021-06-06 16:21:27           clear sky  \n",
       "8         16.11      MR  2021-06-06 16:26:06                sand  \n",
       "10         5.70      VN  2021-06-06 16:26:09     overcast clouds  \n",
       "15        11.86      MV  2021-06-06 16:26:15       broken clouds  \n",
       "..          ...     ...                  ...                 ...  \n",
       "720        1.97      LA  2021-06-06 16:42:41     overcast clouds  \n",
       "721        2.15      IN  2021-06-06 16:42:42       broken clouds  \n",
       "722        8.32      BR  2021-06-06 16:42:44          few clouds  \n",
       "723       10.38      LR  2021-06-06 16:42:45          light rain  \n",
       "727        7.25      CA  2021-06-06 16:42:51    scattered clouds  \n",
       "\n",
       "[239 rows x 11 columns]"
      ],
      "text/html": "<div>\n<style scoped>\n    .dataframe tbody tr th:only-of-type {\n        vertical-align: middle;\n    }\n\n    .dataframe tbody tr th {\n        vertical-align: top;\n    }\n\n    .dataframe thead th {\n        text-align: right;\n    }\n</style>\n<table border=\"1\" class=\"dataframe\">\n  <thead>\n    <tr style=\"text-align: right;\">\n      <th></th>\n      <th>City_ID</th>\n      <th>City</th>\n      <th>Lat</th>\n      <th>Lng</th>\n      <th>Max Temp</th>\n      <th>Humidity</th>\n      <th>Cloudiness</th>\n      <th>Wind Speed</th>\n      <th>Country</th>\n      <th>Date</th>\n      <th>Current Description</th>\n    </tr>\n  </thead>\n  <tbody>\n    <tr>\n      <th>0</th>\n      <td>0</td>\n      <td>Puerto Ayora</td>\n      <td>-0.7393</td>\n      <td>-90.3518</td>\n      <td>80.56</td>\n      <td>85</td>\n      <td>26</td>\n      <td>8.01</td>\n      <td>EC</td>\n      <td>2021-06-06 16:21:37</td>\n      <td>scattered clouds</td>\n    </tr>\n    <tr>\n      <th>3</th>\n      <td>3</td>\n      <td>Jamestown</td>\n      <td>42.0970</td>\n      <td>-79.2353</td>\n      <td>83.01</td>\n      <td>48</td>\n      <td>1</td>\n      <td>8.99</td>\n      <td>US</td>\n      <td>2021-06-06 16:21:27</td>\n      <td>clear sky</td>\n    </tr>\n    <tr>\n      <th>8</th>\n      <td>8</td>\n      <td>Nouadhibou</td>\n      <td>20.9310</td>\n      <td>-17.0347</td>\n      <td>76.98</td>\n      <td>57</td>\n      <td>42</td>\n      <td>16.11</td>\n      <td>MR</td>\n      <td>2021-06-06 16:26:06</td>\n      <td>sand</td>\n    </tr>\n    <tr>\n      <th>10</th>\n      <td>10</td>\n      <td>Tuy Hoa</td>\n      <td>13.0833</td>\n      <td>109.3000</td>\n      <td>80.02</td>\n      <td>83</td>\n      <td>98</td>\n      <td>5.70</td>\n      <td>VN</td>\n      <td>2021-06-06 16:26:09</td>\n      <td>overcast clouds</td>\n    </tr>\n    <tr>\n      <th>15</th>\n      <td>15</td>\n      <td>Hithadhoo</td>\n      <td>-0.6000</td>\n      <td>73.0833</td>\n      <td>83.55</td>\n      <td>71</td>\n      <td>82</td>\n      <td>11.86</td>\n      <td>MV</td>\n      <td>2021-06-06 16:26:15</td>\n      <td>broken clouds</td>\n    </tr>\n    <tr>\n      <th>...</th>\n      <td>...</td>\n      <td>...</td>\n      <td>...</td>\n      <td>...</td>\n      <td>...</td>\n      <td>...</td>\n      <td>...</td>\n      <td>...</td>\n      <td>...</td>\n      <td>...</td>\n      <td>...</td>\n    </tr>\n    <tr>\n      <th>720</th>\n      <td>720</td>\n      <td>Pakxan</td>\n      <td>18.3778</td>\n      <td>103.6601</td>\n      <td>76.87</td>\n      <td>95</td>\n      <td>100</td>\n      <td>1.97</td>\n      <td>LA</td>\n      <td>2021-06-06 16:42:41</td>\n      <td>overcast clouds</td>\n    </tr>\n    <tr>\n      <th>721</th>\n      <td>721</td>\n      <td>Chiplun</td>\n      <td>17.5333</td>\n      <td>73.5167</td>\n      <td>79.77</td>\n      <td>86</td>\n      <td>78</td>\n      <td>2.15</td>\n      <td>IN</td>\n      <td>2021-06-06 16:42:42</td>\n      <td>broken clouds</td>\n    </tr>\n    <tr>\n      <th>722</th>\n      <td>722</td>\n      <td>Prado</td>\n      <td>-17.3411</td>\n      <td>-39.2208</td>\n      <td>79.72</td>\n      <td>64</td>\n      <td>13</td>\n      <td>8.32</td>\n      <td>BR</td>\n      <td>2021-06-06 16:42:44</td>\n      <td>few clouds</td>\n    </tr>\n    <tr>\n      <th>723</th>\n      <td>723</td>\n      <td>Harper</td>\n      <td>4.3750</td>\n      <td>-7.7169</td>\n      <td>80.98</td>\n      <td>81</td>\n      <td>83</td>\n      <td>10.38</td>\n      <td>LR</td>\n      <td>2021-06-06 16:42:45</td>\n      <td>light rain</td>\n    </tr>\n    <tr>\n      <th>727</th>\n      <td>727</td>\n      <td>Deep River</td>\n      <td>46.1001</td>\n      <td>-77.4995</td>\n      <td>87.44</td>\n      <td>47</td>\n      <td>50</td>\n      <td>7.25</td>\n      <td>CA</td>\n      <td>2021-06-06 16:42:51</td>\n      <td>scattered clouds</td>\n    </tr>\n  </tbody>\n</table>\n<p>239 rows × 11 columns</p>\n</div>"
     },
     "metadata": {},
     "execution_count": 6
    }
   ],
   "source": [
    "# 4b. Drop any empty rows and create a new DataFrame that doesn’t have empty rows.\n",
    "clean_df=preferred_cities_df.dropna()\n",
    "clean_df"
   ]
  },
  {
   "cell_type": "code",
   "execution_count": 7,
   "metadata": {},
   "outputs": [
    {
     "output_type": "execute_result",
     "data": {
      "text/plain": [
       "            City Country  Max Temp Current Description      Lat       Lng  \\\n",
       "0   Puerto Ayora      EC     80.56    scattered clouds  -0.7393  -90.3518   \n",
       "3      Jamestown      US     83.01           clear sky  42.0970  -79.2353   \n",
       "8     Nouadhibou      MR     76.98                sand  20.9310  -17.0347   \n",
       "10       Tuy Hoa      VN     80.02     overcast clouds  13.0833  109.3000   \n",
       "15     Hithadhoo      MV     83.55       broken clouds  -0.6000   73.0833   \n",
       "24      Kirakira      SB     79.36    scattered clouds -10.4544  161.9205   \n",
       "26     Ugoofaaru      MV     82.72     overcast clouds   5.6667   73.0000   \n",
       "27    Georgetown      MY     82.33          few clouds   5.4112  100.3354   \n",
       "28       Rikitea      PF     76.44          light rain -23.1203 -134.9692   \n",
       "30        Trairi      BR     88.14    scattered clouds  -3.2778  -39.2689   \n",
       "\n",
       "   Hotel Name  \n",
       "0        None  \n",
       "3        None  \n",
       "8        None  \n",
       "10       None  \n",
       "15       None  \n",
       "24       None  \n",
       "26       None  \n",
       "27       None  \n",
       "28       None  \n",
       "30       None  "
      ],
      "text/html": "<div>\n<style scoped>\n    .dataframe tbody tr th:only-of-type {\n        vertical-align: middle;\n    }\n\n    .dataframe tbody tr th {\n        vertical-align: top;\n    }\n\n    .dataframe thead th {\n        text-align: right;\n    }\n</style>\n<table border=\"1\" class=\"dataframe\">\n  <thead>\n    <tr style=\"text-align: right;\">\n      <th></th>\n      <th>City</th>\n      <th>Country</th>\n      <th>Max Temp</th>\n      <th>Current Description</th>\n      <th>Lat</th>\n      <th>Lng</th>\n      <th>Hotel Name</th>\n    </tr>\n  </thead>\n  <tbody>\n    <tr>\n      <th>0</th>\n      <td>Puerto Ayora</td>\n      <td>EC</td>\n      <td>80.56</td>\n      <td>scattered clouds</td>\n      <td>-0.7393</td>\n      <td>-90.3518</td>\n      <td>None</td>\n    </tr>\n    <tr>\n      <th>3</th>\n      <td>Jamestown</td>\n      <td>US</td>\n      <td>83.01</td>\n      <td>clear sky</td>\n      <td>42.0970</td>\n      <td>-79.2353</td>\n      <td>None</td>\n    </tr>\n    <tr>\n      <th>8</th>\n      <td>Nouadhibou</td>\n      <td>MR</td>\n      <td>76.98</td>\n      <td>sand</td>\n      <td>20.9310</td>\n      <td>-17.0347</td>\n      <td>None</td>\n    </tr>\n    <tr>\n      <th>10</th>\n      <td>Tuy Hoa</td>\n      <td>VN</td>\n      <td>80.02</td>\n      <td>overcast clouds</td>\n      <td>13.0833</td>\n      <td>109.3000</td>\n      <td>None</td>\n    </tr>\n    <tr>\n      <th>15</th>\n      <td>Hithadhoo</td>\n      <td>MV</td>\n      <td>83.55</td>\n      <td>broken clouds</td>\n      <td>-0.6000</td>\n      <td>73.0833</td>\n      <td>None</td>\n    </tr>\n    <tr>\n      <th>24</th>\n      <td>Kirakira</td>\n      <td>SB</td>\n      <td>79.36</td>\n      <td>scattered clouds</td>\n      <td>-10.4544</td>\n      <td>161.9205</td>\n      <td>None</td>\n    </tr>\n    <tr>\n      <th>26</th>\n      <td>Ugoofaaru</td>\n      <td>MV</td>\n      <td>82.72</td>\n      <td>overcast clouds</td>\n      <td>5.6667</td>\n      <td>73.0000</td>\n      <td>None</td>\n    </tr>\n    <tr>\n      <th>27</th>\n      <td>Georgetown</td>\n      <td>MY</td>\n      <td>82.33</td>\n      <td>few clouds</td>\n      <td>5.4112</td>\n      <td>100.3354</td>\n      <td>None</td>\n    </tr>\n    <tr>\n      <th>28</th>\n      <td>Rikitea</td>\n      <td>PF</td>\n      <td>76.44</td>\n      <td>light rain</td>\n      <td>-23.1203</td>\n      <td>-134.9692</td>\n      <td>None</td>\n    </tr>\n    <tr>\n      <th>30</th>\n      <td>Trairi</td>\n      <td>BR</td>\n      <td>88.14</td>\n      <td>scattered clouds</td>\n      <td>-3.2778</td>\n      <td>-39.2689</td>\n      <td>None</td>\n    </tr>\n  </tbody>\n</table>\n</div>"
     },
     "metadata": {},
     "execution_count": 7
    }
   ],
   "source": [
    "# 5a. Create DataFrame called hotel_df to store hotel names along with city, country, max temp, and coordinates.\n",
    "hotel_df = clean_df[[\"City\", \"Country\", \"Max Temp\", \"Current Description\" , \"Lat\", \"Lng\"]].copy()\n",
    "\n",
    "# 5b. Create a new column \"Hotel Name\"\n",
    "hotel_df[\"Hotel Name\"] = None\n",
    "hotel_df.head(10)"
   ]
  },
  {
   "cell_type": "code",
   "execution_count": 8,
   "metadata": {},
   "outputs": [
    {
     "output_type": "stream",
     "name": "stdout",
     "text": [
      "Hotel not found... skipping.\n",
      "Hotel not found... skipping.\n",
      "Hotel not found... skipping.\n",
      "Hotel not found... skipping.\n",
      "Hotel not found... skipping.\n",
      "Hotel not found... skipping.\n",
      "Hotel not found... skipping.\n",
      "Hotel not found... skipping.\n",
      "Hotel not found... skipping.\n",
      "Hotel not found... skipping.\n",
      "Hotel not found... skipping.\n",
      "Hotel not found... skipping.\n",
      "Hotel not found... skipping.\n",
      "Hotel not found... skipping.\n",
      "Hotel not found... skipping.\n",
      "Hotel not found... skipping.\n"
     ]
    },
    {
     "output_type": "execute_result",
     "data": {
      "text/plain": [
       "            City Country  Max Temp Current Description      Lat       Lng  \\\n",
       "0   Puerto Ayora      EC     80.56    scattered clouds  -0.7393  -90.3518   \n",
       "3      Jamestown      US     83.01           clear sky  42.0970  -79.2353   \n",
       "8     Nouadhibou      MR     76.98                sand  20.9310  -17.0347   \n",
       "10       Tuy Hoa      VN     80.02     overcast clouds  13.0833  109.3000   \n",
       "15     Hithadhoo      MV     83.55       broken clouds  -0.6000   73.0833   \n",
       "24      Kirakira      SB     79.36    scattered clouds -10.4544  161.9205   \n",
       "26     Ugoofaaru      MV     82.72     overcast clouds   5.6667   73.0000   \n",
       "27    Georgetown      MY     82.33          few clouds   5.4112  100.3354   \n",
       "28       Rikitea      PF     76.44          light rain -23.1203 -134.9692   \n",
       "30        Trairi      BR     88.14    scattered clouds  -3.2778  -39.2689   \n",
       "\n",
       "                        Hotel Name  \n",
       "0        Finch Bay Galapagos Hotel  \n",
       "3   Hampton Inn & Suites Jamestown  \n",
       "8                        El Medina  \n",
       "10         CenDeluxe Hotel Tuy Hoa  \n",
       "15               Scoop Guest House  \n",
       "24                    SanBiz Lodge  \n",
       "26                  Ungoofaaru Inn  \n",
       "27                  Cititel Penang  \n",
       "28                  Pension Maro'i  \n",
       "30                  janelas do mar  "
      ],
      "text/html": "<div>\n<style scoped>\n    .dataframe tbody tr th:only-of-type {\n        vertical-align: middle;\n    }\n\n    .dataframe tbody tr th {\n        vertical-align: top;\n    }\n\n    .dataframe thead th {\n        text-align: right;\n    }\n</style>\n<table border=\"1\" class=\"dataframe\">\n  <thead>\n    <tr style=\"text-align: right;\">\n      <th></th>\n      <th>City</th>\n      <th>Country</th>\n      <th>Max Temp</th>\n      <th>Current Description</th>\n      <th>Lat</th>\n      <th>Lng</th>\n      <th>Hotel Name</th>\n    </tr>\n  </thead>\n  <tbody>\n    <tr>\n      <th>0</th>\n      <td>Puerto Ayora</td>\n      <td>EC</td>\n      <td>80.56</td>\n      <td>scattered clouds</td>\n      <td>-0.7393</td>\n      <td>-90.3518</td>\n      <td>Finch Bay Galapagos Hotel</td>\n    </tr>\n    <tr>\n      <th>3</th>\n      <td>Jamestown</td>\n      <td>US</td>\n      <td>83.01</td>\n      <td>clear sky</td>\n      <td>42.0970</td>\n      <td>-79.2353</td>\n      <td>Hampton Inn &amp; Suites Jamestown</td>\n    </tr>\n    <tr>\n      <th>8</th>\n      <td>Nouadhibou</td>\n      <td>MR</td>\n      <td>76.98</td>\n      <td>sand</td>\n      <td>20.9310</td>\n      <td>-17.0347</td>\n      <td>El Medina</td>\n    </tr>\n    <tr>\n      <th>10</th>\n      <td>Tuy Hoa</td>\n      <td>VN</td>\n      <td>80.02</td>\n      <td>overcast clouds</td>\n      <td>13.0833</td>\n      <td>109.3000</td>\n      <td>CenDeluxe Hotel Tuy Hoa</td>\n    </tr>\n    <tr>\n      <th>15</th>\n      <td>Hithadhoo</td>\n      <td>MV</td>\n      <td>83.55</td>\n      <td>broken clouds</td>\n      <td>-0.6000</td>\n      <td>73.0833</td>\n      <td>Scoop Guest House</td>\n    </tr>\n    <tr>\n      <th>24</th>\n      <td>Kirakira</td>\n      <td>SB</td>\n      <td>79.36</td>\n      <td>scattered clouds</td>\n      <td>-10.4544</td>\n      <td>161.9205</td>\n      <td>SanBiz Lodge</td>\n    </tr>\n    <tr>\n      <th>26</th>\n      <td>Ugoofaaru</td>\n      <td>MV</td>\n      <td>82.72</td>\n      <td>overcast clouds</td>\n      <td>5.6667</td>\n      <td>73.0000</td>\n      <td>Ungoofaaru Inn</td>\n    </tr>\n    <tr>\n      <th>27</th>\n      <td>Georgetown</td>\n      <td>MY</td>\n      <td>82.33</td>\n      <td>few clouds</td>\n      <td>5.4112</td>\n      <td>100.3354</td>\n      <td>Cititel Penang</td>\n    </tr>\n    <tr>\n      <th>28</th>\n      <td>Rikitea</td>\n      <td>PF</td>\n      <td>76.44</td>\n      <td>light rain</td>\n      <td>-23.1203</td>\n      <td>-134.9692</td>\n      <td>Pension Maro'i</td>\n    </tr>\n    <tr>\n      <th>30</th>\n      <td>Trairi</td>\n      <td>BR</td>\n      <td>88.14</td>\n      <td>scattered clouds</td>\n      <td>-3.2778</td>\n      <td>-39.2689</td>\n      <td>janelas do mar</td>\n    </tr>\n  </tbody>\n</table>\n</div>"
     },
     "metadata": {},
     "execution_count": 8
    }
   ],
   "source": [
    "# 6a. Set parameters to search for hotels with 5000 meters.\n",
    "params = {\n",
    "    \"radius\": 5000,\n",
    "    \"type\": \"lodging\",\n",
    "    \"key\": g_key\n",
    "}\n",
    "\n",
    "# 6b. Iterate through the hotel DataFrame.\n",
    "for index, row in hotel_df.iterrows():\n",
    "    # 6c. Get latitude and longitude from DataFrame\n",
    "    lat = row[\"Lat\"]\n",
    "    lng = row[\"Lng\"]\n",
    "    params[\"location\"] = f\"{lat},{lng}\"\n",
    "    # 6d. Set up the base URL for the Google Directions API to get JSON data.\n",
    "    base_url = \"https://maps.googleapis.com/maps/api/place/nearbysearch/json\"\n",
    "\n",
    "    # 6e. Make request and retrieve the JSON data from the search. \n",
    "    hotels = requests.get(base_url, params=params).json()\n",
    "    \n",
    "    # 6f. Get the first hotel from the results and store the name, if a hotel isn't found skip the city.\n",
    "    \n",
    "    try:\n",
    "        hotel_df.loc[index, \"Hotel Name\"] = hotels[\"results\"][0][\"name\"]\n",
    "    except (IndexError):\n",
    "        print(\"Hotel not found... skipping.\")\n",
    "hotel_df.head(10)"
   ]
  },
  {
   "cell_type": "code",
   "execution_count": 10,
   "metadata": {},
   "outputs": [
    {
     "output_type": "execute_result",
     "data": {
      "text/plain": [
       "16"
      ]
     },
     "metadata": {},
     "execution_count": 10
    }
   ],
   "source": [
    "# 7. Drop the rows where there is no Hotel Name.\n",
    "hotel_df[\"Hotel Name\"].isnull().sum()\n"
   ]
  },
  {
   "cell_type": "code",
   "execution_count": 11,
   "metadata": {},
   "outputs": [],
   "source": [
    "clean_hotel_df=hotel_df.dropna()"
   ]
  },
  {
   "cell_type": "code",
   "execution_count": 12,
   "metadata": {},
   "outputs": [],
   "source": [
    "# 8a. Create the output File (CSV)\n",
    "output_data_file = \"C:\\My_Projects\\Weather_Database/WeatherPy_vacation.csv\"\n",
    "# 8b. Export the City_Data into a csv\n",
    "clean_hotel_df.to_csv(output_data_file, index_label=\"City_ID\")"
   ]
  },
  {
   "cell_type": "code",
   "execution_count": 13,
   "metadata": {},
   "outputs": [],
   "source": [
    "# 9. Using the template add city name, the country code, the weather description and maximum temperature for the city.\n",
    "info_box_template = \"\"\"\n",
    "<dl>\n",
    "<dt>City</dt><dd>{City}</dd>\n",
    "<dt>Country Code </dt><dd>{Country}</dd>\n",
    "<dt>Weather description</dt><dd>{Current Description}</dd>\n",
    "<dt>Max Temp</dt><dd>{Max Temp} °F</dd>\n",
    "</dl>\n",
    "\"\"\"\n",
    "\n",
    "# 10a. Get the data from each row and add it to the formatting template and store the data in a list.\n",
    "hotel_info = [info_box_template.format(**row) for index, row in clean_hotel_df.iterrows()]\n",
    "\n",
    "# 10b. Get the latitude and longitude from each row and store in a new DataFrame.\n",
    "locations = clean_hotel_df[[\"Lat\", \"Lng\"]]"
   ]
  },
  {
   "cell_type": "code",
   "execution_count": 14,
   "metadata": {},
   "outputs": [
    {
     "output_type": "display_data",
     "data": {
      "text/plain": "Figure(layout=FigureLayout(height='420px'))",
      "application/vnd.jupyter.widget-view+json": {
       "version_major": 2,
       "version_minor": 0,
       "model_id": "a8011477c2ab40c7897f77d655e30738"
      }
     },
     "metadata": {}
    }
   ],
   "source": [
    "# 11a. Add a marker layer for each city to the map. \n",
    "locations = clean_hotel_df[[\"Lat\", \"Lng\"]]\n",
    "max_temp = clean_hotel_df[\"Max Temp\"]\n",
    "\n",
    "# Call the figure to plot the data.\n",
    "fig = gmaps.figure(center=(30.0, 31.0), zoom_level=1.5)\n",
    "heat_layer = gmaps.heatmap_layer(locations, weights=max_temp,dissipating=False,\n",
    "             max_intensity=300, point_radius=4)\n",
    "marker_layer = gmaps.marker_layer(locations, info_box_content=hotel_info)\n",
    "\n",
    "# 11b. Display the figure\n",
    "fig.add_layer(heat_layer)\n",
    "fig.add_layer(marker_layer)\n",
    "fig"
   ]
  },
  {
   "cell_type": "code",
   "execution_count": null,
   "metadata": {},
   "outputs": [],
   "source": []
  },
  {
   "cell_type": "code",
   "execution_count": null,
   "metadata": {},
   "outputs": [],
   "source": []
  }
 ],
 "metadata": {
  "kernelspec": {
   "name": "python385jvsc74a57bd03abbaa6bc1abc4857c2703d2245d8287979e4717e2f7963ea8b49096e621ef43",
   "display_name": "Python 3.8.5 64-bit ('base': conda)"
  },
  "language_info": {
   "codemirror_mode": {
    "name": "ipython",
    "version": 3
   },
   "file_extension": ".py",
   "mimetype": "text/x-python",
   "name": "python",
   "nbconvert_exporter": "python",
   "pygments_lexer": "ipython3",
   "version": "3.8.5"
  },
  "latex_envs": {
   "LaTeX_envs_menu_present": true,
   "autoclose": false,
   "autocomplete": true,
   "bibliofile": "biblio.bib",
   "cite_by": "apalike",
   "current_citInitial": 1,
   "eqLabelWithNumbers": true,
   "eqNumInitial": 1,
   "hotkeys": {
    "equation": "Ctrl-E",
    "itemize": "Ctrl-I"
   },
   "labels_anchors": false,
   "latex_user_defs": false,
   "report_style_numbering": false,
   "user_envs_cfg": false
  },
  "metadata": {
   "interpreter": {
    "hash": "200e76fa38649f20fca6a370de427069860657e9c4f06d6fba253315a1ce48e1"
   }
  }
 },
 "nbformat": 4,
 "nbformat_minor": 2
}