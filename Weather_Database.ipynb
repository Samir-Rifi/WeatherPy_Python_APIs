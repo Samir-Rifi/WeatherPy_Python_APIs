{
 "metadata": {
  "language_info": {
   "codemirror_mode": {
    "name": "ipython",
    "version": 3
   },
   "file_extension": ".py",
   "mimetype": "text/x-python",
   "name": "python",
   "nbconvert_exporter": "python",
   "pygments_lexer": "ipython3",
   "version": "3.8.5"
  },
  "orig_nbformat": 2,
  "kernelspec": {
   "name": "python385jvsc74a57bd03abbaa6bc1abc4857c2703d2245d8287979e4717e2f7963ea8b49096e621ef43",
   "display_name": "Python 3.8.5 64-bit ('base': conda)"
  },
  "metadata": {
   "interpreter": {
    "hash": "200e76fa38649f20fca6a370de427069860657e9c4f06d6fba253315a1ce48e1"
   }
  }
 },
 "nbformat": 4,
 "nbformat_minor": 2,
 "cells": [
  {
   "cell_type": "code",
   "execution_count": 1,
   "metadata": {},
   "outputs": [],
   "source": [
    "import random\n",
    "import numpy as np\n",
    "import requests\n",
    "from config import weather_api_key\n",
    "from datetime import datetime\n",
    "import pandas as pd\n",
    "import time\n",
    "import matplotlib.pyplot as plt\n",
    "from citipy import citipy\n",
    "from scipy.stats import linregress\n",
    "import matplotlib.pyplot as plt"
   ]
  },
  {
   "cell_type": "code",
   "execution_count": 2,
   "metadata": {},
   "outputs": [
    {
     "output_type": "execute_result",
     "data": {
      "text/plain": [
       "781"
      ]
     },
     "metadata": {},
     "execution_count": 2
    }
   ],
   "source": [
    "# Create a new set of 2,000 random latitudes and longitudes.\n",
    "lats = np.random.uniform(low=-90.000, high=90.000, size=2000)\n",
    "lngs = np.random.uniform(low=-180.000, high=180.000, size=2000)\n",
    "coordinates = zip(lats, lngs)\n",
    "cities = []\n",
    "for coordinate in coordinates:\n",
    "    city = citipy.nearest_city(coordinate[0], coordinate[1]).city_name\n",
    "    if city not in cities:\n",
    "        cities.append(city)\n",
    "len(cities)"
   ]
  },
  {
   "cell_type": "code",
   "execution_count": 12,
   "metadata": {
    "tags": []
   },
   "outputs": [
    {
     "output_type": "stream",
     "name": "stdout",
     "text": [
      "City not found. Skipping...\n",
      "City not found. Skipping...\n",
      "City not found. Skipping...\n",
      "City not found. Skipping...\n",
      "City not found. Skipping...\n",
      "City not found. Skipping...\n",
      "City not found. Skipping...\n",
      "City not found. Skipping...\n",
      "City not found. Skipping...\n",
      "City not found. Skipping...\n",
      "City not found. Skipping...\n",
      "City not found. Skipping...\n",
      "City not found. Skipping...\n",
      "City not found. Skipping...\n",
      "City not found. Skipping...\n",
      "City not found. Skipping...\n",
      "City not found. Skipping...\n",
      "City not found. Skipping...\n",
      "City not found. Skipping...\n",
      "City not found. Skipping...\n",
      "City not found. Skipping...\n",
      "City not found. Skipping...\n",
      "City not found. Skipping...\n",
      "City not found. Skipping...\n",
      "City not found. Skipping...\n",
      "City not found. Skipping...\n",
      "City not found. Skipping...\n",
      "City not found. Skipping...\n",
      "City not found. Skipping...\n",
      "City not found. Skipping...\n",
      "City not found. Skipping...\n",
      "City not found. Skipping...\n",
      "City not found. Skipping...\n",
      "City not found. Skipping...\n",
      "City not found. Skipping...\n",
      "City not found. Skipping...\n",
      "City not found. Skipping...\n",
      "City not found. Skipping...\n",
      "City not found. Skipping...\n",
      "City not found. Skipping...\n",
      "City not found. Skipping...\n",
      "City not found. Skipping...\n",
      "City not found. Skipping...\n",
      "City not found. Skipping...\n",
      "City not found. Skipping...\n",
      "City not found. Skipping...\n",
      "City not found. Skipping...\n",
      "City not found. Skipping...\n",
      "City not found. Skipping...\n",
      "City not found. Skipping...\n",
      "City not found. Skipping...\n",
      "City not found. Skipping...\n",
      "City not found. Skipping...\n",
      "-----------------------------\n",
      "Data Retrieval Complete      \n",
      "-----------------------------\n"
     ]
    }
   ],
   "source": [
    "# Retrieve the data from the API call\n",
    "url = \"http://api.openweathermap.org/data/2.5/weather?units=Imperial&APPID=\" + weather_api_key\n",
    "record_count=0\n",
    "set_count=0\n",
    "city_data=[]\n",
    "\n",
    "for i, city in enumerate(cities):\n",
    "    if (i % 50 == 0 and i >= 50):\n",
    "        set_count += 1\n",
    "        record_count = 1\n",
    "    city_url = url + \"&q=\" + city.replace(\" \",\"+\")\n",
    "    time.sleep(1)\n",
    "    try:\n",
    "        city_weather = requests.get(city_url).json()\n",
    "        #print(city_weather[\"weather\"][0][\"description\"])\n",
    "        city_lat = city_weather[\"coord\"][\"lat\"]\n",
    "        city_lng = city_weather[\"coord\"][\"lon\"]\n",
    "        city_max_temp = city_weather[\"main\"][\"temp_max\"]\n",
    "        city_humidity = city_weather[\"main\"][\"humidity\"]\n",
    "        city_clouds = city_weather[\"clouds\"][\"all\"]\n",
    "        city_wind = city_weather[\"wind\"][\"speed\"]\n",
    "        city_country = city_weather[\"sys\"][\"country\"]\n",
    "        weather_description = city_weather[\"weather\"][0][\"description\"]\n",
    "        city_date = datetime.utcfromtimestamp(city_weather[\"dt\"]).strftime('%Y-%m-%d %H:%M:%S')\n",
    "        city_data.append({\"City\": city.title(),\n",
    "                            \"Lat\": city_lat,\n",
    "                            \"Lng\": city_lng,\n",
    "                            \"Max Temp\": city_max_temp,\n",
    "                            \"Humidity\": city_humidity,\n",
    "                            \"Cloudiness\": city_clouds,\n",
    "                            \"Wind Speed\": city_wind,\n",
    "                            \"Country\": city_country,\n",
    "                            \"Date\": city_date,\n",
    "                            \"Current Description\":weather_description})\n",
    "    except:\n",
    "        print(\"City not found. Skipping...\")\n",
    "        pass\n",
    "print(\"-----------------------------\")\n",
    "print(\"Data Retrieval Complete      \")\n",
    "print(\"-----------------------------\")\n"
   ]
  },
  {
   "cell_type": "code",
   "execution_count": 13,
   "metadata": {},
   "outputs": [
    {
     "output_type": "execute_result",
     "data": {
      "text/plain": [
       "               City      Lat      Lng  Max Temp  Humidity  Cloudiness  \\\n",
       "0      Puerto Ayora  -0.7393 -90.3518     80.56        85          26   \n",
       "1             Talas  38.6908  35.5538     66.87        32          20   \n",
       "2      Krasnoselkup  65.7000  82.4667     39.33        65          97   \n",
       "3         Jamestown  42.0970 -79.2353     83.01        48           1   \n",
       "4       Port Alfred -33.5906  26.8910     65.70        43           0   \n",
       "5      Punta Arenas -53.1500 -70.9167     37.51        87           0   \n",
       "6          Coquimbo -29.9533 -71.3436     56.93        82          90   \n",
       "7         Upernavik  72.7868 -56.1549     36.86        82          14   \n",
       "8        Nouadhibou  20.9310 -17.0347     76.98        57          42   \n",
       "9  Praia Da Vitoria  38.7333 -27.0667     71.76        73          40   \n",
       "\n",
       "   Wind Speed Country                 Date Current Description  \n",
       "0        8.01      EC  2021-06-06 16:21:37    scattered clouds  \n",
       "1        7.31      TR  2021-06-06 16:25:57          few clouds  \n",
       "2       11.61      RU  2021-06-06 16:25:59     overcast clouds  \n",
       "3        8.99      US  2021-06-06 16:21:27           clear sky  \n",
       "4        9.26      ZA  2021-06-06 16:26:01           clear sky  \n",
       "5        9.33      CL  2021-06-06 16:24:43           clear sky  \n",
       "6        4.03      CL  2021-06-06 16:26:04     overcast clouds  \n",
       "7        3.58      GL  2021-06-06 16:26:05          few clouds  \n",
       "8       16.11      MR  2021-06-06 16:26:06                sand  \n",
       "9        2.68      PT  2021-06-06 16:26:08    scattered clouds  "
      ],
      "text/html": "<div>\n<style scoped>\n    .dataframe tbody tr th:only-of-type {\n        vertical-align: middle;\n    }\n\n    .dataframe tbody tr th {\n        vertical-align: top;\n    }\n\n    .dataframe thead th {\n        text-align: right;\n    }\n</style>\n<table border=\"1\" class=\"dataframe\">\n  <thead>\n    <tr style=\"text-align: right;\">\n      <th></th>\n      <th>City</th>\n      <th>Lat</th>\n      <th>Lng</th>\n      <th>Max Temp</th>\n      <th>Humidity</th>\n      <th>Cloudiness</th>\n      <th>Wind Speed</th>\n      <th>Country</th>\n      <th>Date</th>\n      <th>Current Description</th>\n    </tr>\n  </thead>\n  <tbody>\n    <tr>\n      <th>0</th>\n      <td>Puerto Ayora</td>\n      <td>-0.7393</td>\n      <td>-90.3518</td>\n      <td>80.56</td>\n      <td>85</td>\n      <td>26</td>\n      <td>8.01</td>\n      <td>EC</td>\n      <td>2021-06-06 16:21:37</td>\n      <td>scattered clouds</td>\n    </tr>\n    <tr>\n      <th>1</th>\n      <td>Talas</td>\n      <td>38.6908</td>\n      <td>35.5538</td>\n      <td>66.87</td>\n      <td>32</td>\n      <td>20</td>\n      <td>7.31</td>\n      <td>TR</td>\n      <td>2021-06-06 16:25:57</td>\n      <td>few clouds</td>\n    </tr>\n    <tr>\n      <th>2</th>\n      <td>Krasnoselkup</td>\n      <td>65.7000</td>\n      <td>82.4667</td>\n      <td>39.33</td>\n      <td>65</td>\n      <td>97</td>\n      <td>11.61</td>\n      <td>RU</td>\n      <td>2021-06-06 16:25:59</td>\n      <td>overcast clouds</td>\n    </tr>\n    <tr>\n      <th>3</th>\n      <td>Jamestown</td>\n      <td>42.0970</td>\n      <td>-79.2353</td>\n      <td>83.01</td>\n      <td>48</td>\n      <td>1</td>\n      <td>8.99</td>\n      <td>US</td>\n      <td>2021-06-06 16:21:27</td>\n      <td>clear sky</td>\n    </tr>\n    <tr>\n      <th>4</th>\n      <td>Port Alfred</td>\n      <td>-33.5906</td>\n      <td>26.8910</td>\n      <td>65.70</td>\n      <td>43</td>\n      <td>0</td>\n      <td>9.26</td>\n      <td>ZA</td>\n      <td>2021-06-06 16:26:01</td>\n      <td>clear sky</td>\n    </tr>\n    <tr>\n      <th>5</th>\n      <td>Punta Arenas</td>\n      <td>-53.1500</td>\n      <td>-70.9167</td>\n      <td>37.51</td>\n      <td>87</td>\n      <td>0</td>\n      <td>9.33</td>\n      <td>CL</td>\n      <td>2021-06-06 16:24:43</td>\n      <td>clear sky</td>\n    </tr>\n    <tr>\n      <th>6</th>\n      <td>Coquimbo</td>\n      <td>-29.9533</td>\n      <td>-71.3436</td>\n      <td>56.93</td>\n      <td>82</td>\n      <td>90</td>\n      <td>4.03</td>\n      <td>CL</td>\n      <td>2021-06-06 16:26:04</td>\n      <td>overcast clouds</td>\n    </tr>\n    <tr>\n      <th>7</th>\n      <td>Upernavik</td>\n      <td>72.7868</td>\n      <td>-56.1549</td>\n      <td>36.86</td>\n      <td>82</td>\n      <td>14</td>\n      <td>3.58</td>\n      <td>GL</td>\n      <td>2021-06-06 16:26:05</td>\n      <td>few clouds</td>\n    </tr>\n    <tr>\n      <th>8</th>\n      <td>Nouadhibou</td>\n      <td>20.9310</td>\n      <td>-17.0347</td>\n      <td>76.98</td>\n      <td>57</td>\n      <td>42</td>\n      <td>16.11</td>\n      <td>MR</td>\n      <td>2021-06-06 16:26:06</td>\n      <td>sand</td>\n    </tr>\n    <tr>\n      <th>9</th>\n      <td>Praia Da Vitoria</td>\n      <td>38.7333</td>\n      <td>-27.0667</td>\n      <td>71.76</td>\n      <td>73</td>\n      <td>40</td>\n      <td>2.68</td>\n      <td>PT</td>\n      <td>2021-06-06 16:26:08</td>\n      <td>scattered clouds</td>\n    </tr>\n  </tbody>\n</table>\n</div>"
     },
     "metadata": {},
     "execution_count": 13
    }
   ],
   "source": [
    "# Add the weather data to a new DataFrame\n",
    "city_data_df = pd.DataFrame(city_data)\n",
    "city_data_df.head(10)"
   ]
  },
  {
   "cell_type": "code",
   "execution_count": 14,
   "metadata": {},
   "outputs": [],
   "source": [
    "# Create the output file (CSV).\n",
    "output_data_file = \"C:\\My_Projects\\Weather_Database/WeatherPy_Database.csv\"\n",
    "# Export the City_Data into a CSV.\n",
    "city_data_df.to_csv(output_data_file, index_label=\"City_ID\")"
   ]
  },
  {
   "cell_type": "code",
   "execution_count": null,
   "metadata": {},
   "outputs": [],
   "source": []
  }
 ]
}